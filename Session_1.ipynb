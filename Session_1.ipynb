{
  "cells": [
    {
      "cell_type": "code",
      "execution_count": 1,
      "metadata": {
        "id": "HXBn28V4YNYp"
      },
      "outputs": [],
      "source": [
        "import json\n",
        "import pandas as pd\n",
        "import gzip\n",
        "import os\n",
        "from urllib.request import urlopen"
      ]
    },
    {
      "cell_type": "markdown",
      "metadata": {
        "id": "KrW35atfYNYr"
      },
      "source": [
        "# Familiarize Yourself with the Dataset\n",
        "In the lab sessions, we will work with the \"All Beauty\" category of the Amazon Review Data, and we will use the 5-core subset. You can download the dataset and find information about it here: https://nijianmo.github.io/amazon/index.html"
      ]
    },
    {
      "cell_type": "code",
      "source": [
        "!wget http://deepyeti.ucsd.edu/jianmo/amazon/categoryFilesSmall/All_Beauty_5.json.gz"
      ],
      "metadata": {
        "colab": {
          "base_uri": "https://localhost:8080/"
        },
        "id": "7BPuta4iYuCz",
        "outputId": "55812bac-3132-4b42-cf9a-6425b66993b1"
      },
      "execution_count": 2,
      "outputs": [
        {
          "output_type": "stream",
          "name": "stdout",
          "text": [
            "--2022-02-26 21:34:26--  http://deepyeti.ucsd.edu/jianmo/amazon/categoryFilesSmall/All_Beauty_5.json.gz\n",
            "Resolving deepyeti.ucsd.edu (deepyeti.ucsd.edu)... 169.228.63.50\n",
            "Connecting to deepyeti.ucsd.edu (deepyeti.ucsd.edu)|169.228.63.50|:80... connected.\n",
            "HTTP request sent, awaiting response... 200 OK\n",
            "Length: 633507 (619K) [application/octet-stream]\n",
            "Saving to: ‘All_Beauty_5.json.gz’\n",
            "\n",
            "All_Beauty_5.json.g 100%[===================>] 618.66K  2.42MB/s    in 0.2s    \n",
            "\n",
            "2022-02-26 21:34:27 (2.42 MB/s) - ‘All_Beauty_5.json.gz’ saved [633507/633507]\n",
            "\n"
          ]
        }
      ]
    },
    {
      "cell_type": "markdown",
      "metadata": {
        "id": "LOo8E_gxYNYs"
      },
      "source": [
        "## Exercise 1\n",
        "Download and import the 5-core dataset."
      ]
    },
    {
      "cell_type": "code",
      "execution_count": 3,
      "metadata": {
        "colab": {
          "base_uri": "https://localhost:8080/"
        },
        "id": "8ZSs4S8kYNYs",
        "outputId": "6f0fe6d4-8610-416a-a076-e362132eaba0"
      },
      "outputs": [
        {
          "output_type": "stream",
          "name": "stdout",
          "text": [
            "5269\n"
          ]
        }
      ],
      "source": [
        "def parse(path):\n",
        "  g = gzip.open(path, 'rb')\n",
        "  for l in g:\n",
        "    yield json.loads(l)\n",
        "\n",
        "def getDF(path):\n",
        "  i = 0\n",
        "  df = {}\n",
        "  for d in parse(path):\n",
        "    df[i] = d\n",
        "    i += 1\n",
        "  return pd.DataFrame.from_dict(df, orient='index')\n",
        "\n",
        "df = getDF('All_Beauty_5.json.gz')\n",
        "print(len(df))"
      ]
    },
    {
      "cell_type": "markdown",
      "metadata": {
        "id": "5EBJibFZYNYt"
      },
      "source": [
        "## Exercise 2\n",
        "Clean the dataset from missing ratings and duplicates (cases where the same user has rated the same item multiple times) if any. How many observations does the cleaned dataset have?"
      ]
    },
    {
      "cell_type": "code",
      "execution_count": 4,
      "metadata": {
        "colab": {
          "base_uri": "https://localhost:8080/",
          "height": 355
        },
        "id": "d89MToUDYNYt",
        "outputId": "a5628f9d-bc0e-40f0-bf8c-2096a211201a"
      },
      "outputs": [
        {
          "output_type": "stream",
          "name": "stdout",
          "text": [
            "4092\n"
          ]
        },
        {
          "output_type": "execute_result",
          "data": {
            "text/html": [
              "\n",
              "  <div id=\"df-f9087e20-f9e5-4de6-96b4-f70866bc8cc4\">\n",
              "    <div class=\"colab-df-container\">\n",
              "      <div>\n",
              "<style scoped>\n",
              "    .dataframe tbody tr th:only-of-type {\n",
              "        vertical-align: middle;\n",
              "    }\n",
              "\n",
              "    .dataframe tbody tr th {\n",
              "        vertical-align: top;\n",
              "    }\n",
              "\n",
              "    .dataframe thead th {\n",
              "        text-align: right;\n",
              "    }\n",
              "</style>\n",
              "<table border=\"1\" class=\"dataframe\">\n",
              "  <thead>\n",
              "    <tr style=\"text-align: right;\">\n",
              "      <th></th>\n",
              "      <th>overall</th>\n",
              "      <th>verified</th>\n",
              "      <th>reviewTime</th>\n",
              "      <th>reviewerID</th>\n",
              "      <th>asin</th>\n",
              "      <th>style</th>\n",
              "      <th>reviewerName</th>\n",
              "      <th>reviewText</th>\n",
              "      <th>summary</th>\n",
              "      <th>unixReviewTime</th>\n",
              "      <th>vote</th>\n",
              "      <th>image</th>\n",
              "    </tr>\n",
              "  </thead>\n",
              "  <tbody>\n",
              "    <tr>\n",
              "      <th>0</th>\n",
              "      <td>5.0</td>\n",
              "      <td>True</td>\n",
              "      <td>07 6, 2014</td>\n",
              "      <td>A105A034ZG9EHO</td>\n",
              "      <td>B0009RF9DW</td>\n",
              "      <td>{'Size:': ' 180'}</td>\n",
              "      <td>K. Mras</td>\n",
              "      <td>yum</td>\n",
              "      <td>Five Stars</td>\n",
              "      <td>1404604800</td>\n",
              "      <td>NaN</td>\n",
              "      <td>NaN</td>\n",
              "    </tr>\n",
              "    <tr>\n",
              "      <th>1</th>\n",
              "      <td>5.0</td>\n",
              "      <td>True</td>\n",
              "      <td>07 6, 2014</td>\n",
              "      <td>A105A034ZG9EHO</td>\n",
              "      <td>B000FI4S1E</td>\n",
              "      <td>NaN</td>\n",
              "      <td>K. Mras</td>\n",
              "      <td>yum</td>\n",
              "      <td>Five Stars</td>\n",
              "      <td>1404604800</td>\n",
              "      <td>NaN</td>\n",
              "      <td>NaN</td>\n",
              "    </tr>\n",
              "    <tr>\n",
              "      <th>2</th>\n",
              "      <td>5.0</td>\n",
              "      <td>True</td>\n",
              "      <td>07 6, 2014</td>\n",
              "      <td>A105A034ZG9EHO</td>\n",
              "      <td>B000URXP6E</td>\n",
              "      <td>{'Size:': ' 180'}</td>\n",
              "      <td>K. Mras</td>\n",
              "      <td>yum</td>\n",
              "      <td>Five Stars</td>\n",
              "      <td>1404604800</td>\n",
              "      <td>NaN</td>\n",
              "      <td>NaN</td>\n",
              "    </tr>\n",
              "    <tr>\n",
              "      <th>3</th>\n",
              "      <td>5.0</td>\n",
              "      <td>True</td>\n",
              "      <td>07 6, 2014</td>\n",
              "      <td>A105A034ZG9EHO</td>\n",
              "      <td>B0012Y0ZG2</td>\n",
              "      <td>{'Size:': ' 180'}</td>\n",
              "      <td>K. Mras</td>\n",
              "      <td>yum</td>\n",
              "      <td>Five Stars</td>\n",
              "      <td>1404604800</td>\n",
              "      <td>NaN</td>\n",
              "      <td>NaN</td>\n",
              "    </tr>\n",
              "    <tr>\n",
              "      <th>4</th>\n",
              "      <td>5.0</td>\n",
              "      <td>True</td>\n",
              "      <td>08 13, 2013</td>\n",
              "      <td>A10JB7YPWZGRF4</td>\n",
              "      <td>B0009RF9DW</td>\n",
              "      <td>{'Size:': ' 45'}</td>\n",
              "      <td>Amazon Customer</td>\n",
              "      <td>I continually get compliments on how wonderful...</td>\n",
              "      <td>Heaven !</td>\n",
              "      <td>1376352000</td>\n",
              "      <td>NaN</td>\n",
              "      <td>NaN</td>\n",
              "    </tr>\n",
              "  </tbody>\n",
              "</table>\n",
              "</div>\n",
              "      <button class=\"colab-df-convert\" onclick=\"convertToInteractive('df-f9087e20-f9e5-4de6-96b4-f70866bc8cc4')\"\n",
              "              title=\"Convert this dataframe to an interactive table.\"\n",
              "              style=\"display:none;\">\n",
              "        \n",
              "  <svg xmlns=\"http://www.w3.org/2000/svg\" height=\"24px\"viewBox=\"0 0 24 24\"\n",
              "       width=\"24px\">\n",
              "    <path d=\"M0 0h24v24H0V0z\" fill=\"none\"/>\n",
              "    <path d=\"M18.56 5.44l.94 2.06.94-2.06 2.06-.94-2.06-.94-.94-2.06-.94 2.06-2.06.94zm-11 1L8.5 8.5l.94-2.06 2.06-.94-2.06-.94L8.5 2.5l-.94 2.06-2.06.94zm10 10l.94 2.06.94-2.06 2.06-.94-2.06-.94-.94-2.06-.94 2.06-2.06.94z\"/><path d=\"M17.41 7.96l-1.37-1.37c-.4-.4-.92-.59-1.43-.59-.52 0-1.04.2-1.43.59L10.3 9.45l-7.72 7.72c-.78.78-.78 2.05 0 2.83L4 21.41c.39.39.9.59 1.41.59.51 0 1.02-.2 1.41-.59l7.78-7.78 2.81-2.81c.8-.78.8-2.07 0-2.86zM5.41 20L4 18.59l7.72-7.72 1.47 1.35L5.41 20z\"/>\n",
              "  </svg>\n",
              "      </button>\n",
              "      \n",
              "  <style>\n",
              "    .colab-df-container {\n",
              "      display:flex;\n",
              "      flex-wrap:wrap;\n",
              "      gap: 12px;\n",
              "    }\n",
              "\n",
              "    .colab-df-convert {\n",
              "      background-color: #E8F0FE;\n",
              "      border: none;\n",
              "      border-radius: 50%;\n",
              "      cursor: pointer;\n",
              "      display: none;\n",
              "      fill: #1967D2;\n",
              "      height: 32px;\n",
              "      padding: 0 0 0 0;\n",
              "      width: 32px;\n",
              "    }\n",
              "\n",
              "    .colab-df-convert:hover {\n",
              "      background-color: #E2EBFA;\n",
              "      box-shadow: 0px 1px 2px rgba(60, 64, 67, 0.3), 0px 1px 3px 1px rgba(60, 64, 67, 0.15);\n",
              "      fill: #174EA6;\n",
              "    }\n",
              "\n",
              "    [theme=dark] .colab-df-convert {\n",
              "      background-color: #3B4455;\n",
              "      fill: #D2E3FC;\n",
              "    }\n",
              "\n",
              "    [theme=dark] .colab-df-convert:hover {\n",
              "      background-color: #434B5C;\n",
              "      box-shadow: 0px 1px 3px 1px rgba(0, 0, 0, 0.15);\n",
              "      filter: drop-shadow(0px 1px 2px rgba(0, 0, 0, 0.3));\n",
              "      fill: #FFFFFF;\n",
              "    }\n",
              "  </style>\n",
              "\n",
              "      <script>\n",
              "        const buttonEl =\n",
              "          document.querySelector('#df-f9087e20-f9e5-4de6-96b4-f70866bc8cc4 button.colab-df-convert');\n",
              "        buttonEl.style.display =\n",
              "          google.colab.kernel.accessAllowed ? 'block' : 'none';\n",
              "\n",
              "        async function convertToInteractive(key) {\n",
              "          const element = document.querySelector('#df-f9087e20-f9e5-4de6-96b4-f70866bc8cc4');\n",
              "          const dataTable =\n",
              "            await google.colab.kernel.invokeFunction('convertToInteractive',\n",
              "                                                     [key], {});\n",
              "          if (!dataTable) return;\n",
              "\n",
              "          const docLinkHtml = 'Like what you see? Visit the ' +\n",
              "            '<a target=\"_blank\" href=https://colab.research.google.com/notebooks/data_table.ipynb>data table notebook</a>'\n",
              "            + ' to learn more about interactive tables.';\n",
              "          element.innerHTML = '';\n",
              "          dataTable['output_type'] = 'display_data';\n",
              "          await google.colab.output.renderOutput(dataTable, element);\n",
              "          const docLink = document.createElement('div');\n",
              "          docLink.innerHTML = docLinkHtml;\n",
              "          element.appendChild(docLink);\n",
              "        }\n",
              "      </script>\n",
              "    </div>\n",
              "  </div>\n",
              "  "
            ],
            "text/plain": [
              "   overall  verified   reviewTime  ... unixReviewTime vote image\n",
              "0      5.0      True   07 6, 2014  ...     1404604800  NaN   NaN\n",
              "1      5.0      True   07 6, 2014  ...     1404604800  NaN   NaN\n",
              "2      5.0      True   07 6, 2014  ...     1404604800  NaN   NaN\n",
              "3      5.0      True   07 6, 2014  ...     1404604800  NaN   NaN\n",
              "4      5.0      True  08 13, 2013  ...     1376352000  NaN   NaN\n",
              "\n",
              "[5 rows x 12 columns]"
            ]
          },
          "metadata": {},
          "execution_count": 4
        }
      ],
      "source": [
        "df = df.sort_values(by=['reviewerID', 'asin', 'unixReviewTime'])\n",
        "cleaned_dataset = df.dropna(subset=['overall']).drop_duplicates(subset=['reviewerID', 'asin'], keep = 'last').reset_index(drop=True)\n",
        "print(len(cleaned_dataset))\n",
        "cleaned_dataset.head()"
      ]
    },
    {
      "cell_type": "markdown",
      "metadata": {
        "id": "cSdqxle_YNYu"
      },
      "source": [
        "## Exercise 3\n",
        "Create a test set by extracting the latest (in time) positively rated item (rating $\\geq 4$) by each user. Remove users that do not appear in the training set. How many observations does the training and test set have?"
      ]
    },
    {
      "cell_type": "markdown",
      "source": [
        ""
      ],
      "metadata": {
        "id": "NqCI7pmz6uSW"
      }
    },
    {
      "cell_type": "code",
      "execution_count": 5,
      "metadata": {
        "colab": {
          "base_uri": "https://localhost:8080/"
        },
        "id": "t2k_c8X2YNYu",
        "outputId": "2f02c559-10b9-4a0f-cf3c-c97dbcfe92b1"
      },
      "outputs": [
        {
          "output_type": "stream",
          "name": "stdout",
          "text": [
            "3133\n",
            "949\n"
          ]
        }
      ],
      "source": [
        "cleaned_dataset = cleaned_dataset.sort_values(by=['reviewerID', 'unixReviewTime']).reset_index(drop=True)\n",
        "# extracting the latest (in time) positively rated item (rating  ≥4 ) by each user. \n",
        "test_data_pre = cleaned_dataset[cleaned_dataset.overall >= 4.0].drop_duplicates(subset=['reviewerID'], keep='last')\n",
        "# generate training data\n",
        "training_data = cleaned_dataset.drop(test_data_pre.index)\n",
        "print(len(training_data))\n",
        "\n",
        "# Remove users that do not appear in the training set.\n",
        "user_in_training = test_data_pre['reviewerID'].isin(training_data['reviewerID'])\n",
        "test_data = test_data_pre[user_in_training]\n",
        "print(len(test_data))"
      ]
    },
    {
      "cell_type": "markdown",
      "metadata": {
        "id": "rvp8C-F2YNYv"
      },
      "source": [
        "## Exercise 4\n",
        "### 4.1\n",
        "Compute the number of ratings per user in the training set. What is the summary statistics of the number of ratings, and how does a histogram look like? <br>\n",
        "Reflect on how a collaborative filtering and a content-based recommender system, respectively, will perform for users with few ratings."
      ]
    },
    {
      "cell_type": "code",
      "execution_count": 6,
      "metadata": {
        "colab": {
          "base_uri": "https://localhost:8080/"
        },
        "id": "lsXpqX_RYNYv",
        "outputId": "700dddca-0043-41e1-daf2-1acb2eb83a5c"
      },
      "outputs": [
        {
          "output_type": "stream",
          "name": "stdout",
          "text": [
            "summary statistics:\n"
          ]
        },
        {
          "output_type": "execute_result",
          "data": {
            "text/plain": [
              "count    981.000000\n",
              "mean       3.193680\n",
              "std        0.610454\n",
              "min        1.000000\n",
              "25%        3.000000\n",
              "50%        3.000000\n",
              "75%        3.000000\n",
              "max        9.000000\n",
              "Name: overall, dtype: float64"
            ]
          },
          "metadata": {},
          "execution_count": 6
        }
      ],
      "source": [
        "number_of_rating = training_data.groupby(['reviewerID']).count()\n",
        "print(\"summary statistics:\")\n",
        "number_of_rating.overall.describe()\n",
        "# percentage = number_of_rating.groupby(['overall']).count() / 981.0\n",
        "# percentage['reviewerName'].plot.bar()"
      ]
    },
    {
      "cell_type": "markdown",
      "metadata": {
        "id": "CHCL5l1rYNYv"
      },
      "source": [
        "### 4.2\n",
        "Compute the number of ratings per item in the training set. How does a barplot of the number of ratings ordered by decreasing frequency look like? <br>\n",
        "Reflect on how it will affect the prediction process of a recommender system if only a small fraction of the items are rated frequently. <br>\n",
        "<br>\n",
        "Repeat this exercise on the test set and reflect on how the evaluation of a recommender system can be affected by popular items."
      ]
    },
    {
      "cell_type": "code",
      "execution_count": 7,
      "metadata": {
        "colab": {
          "base_uri": "https://localhost:8080/",
          "height": 358
        },
        "id": "tQ28uaQRYNYw",
        "outputId": "4d1de246-8cd2-4cb7-e7e4-850f847eba38"
      },
      "outputs": [
        {
          "output_type": "execute_result",
          "data": {
            "text/plain": [
              "<matplotlib.axes._subplots.AxesSubplot at 0x7f3c59d5a210>"
            ]
          },
          "metadata": {},
          "execution_count": 7
        },
        {
          "output_type": "display_data",
          "data": {
            "image/png": "[encoded data removed]",
            "text/plain": [
              "<Figure size 432x288 with 1 Axes>"
            ]
          },
          "metadata": {
            "needs_background": "light"
          }
        }
      ],
      "source": [
        "number_of_rating = test_data.groupby('asin').count().sort_values(by=['overall'], ascending=False)\n",
        "number_of_rating['overall'].plot.bar()"
      ]
    },
    {
      "cell_type": "code",
      "source": [
        "number_of_rating = training_data.groupby('asin').count().sort_values(by=['overall'], ascending=False)\n",
        "number_of_rating['overall'].plot.bar()"
      ],
      "metadata": {
        "colab": {
          "base_uri": "https://localhost:8080/",
          "height": 358
        },
        "id": "Gd0e_GdKKCkN",
        "outputId": "5cdee10d-4c8b-416a-b7a3-3ae8da2f1514"
      },
      "execution_count": 8,
      "outputs": [
        {
          "output_type": "execute_result",
          "data": {
            "text/plain": [
              "<matplotlib.axes._subplots.AxesSubplot at 0x7f3c532c1450>"
            ]
          },
          "metadata": {},
          "execution_count": 8
        },
        {
          "output_type": "display_data",
          "data": {
            "image/png": "[encoded data removed]",
            "text/plain": [
              "<Figure size 432x288 with 1 Axes>"
            ]
          },
          "metadata": {
            "needs_background": "light"
          }
        }
      ]
    },
    {
      "cell_type": "markdown",
      "metadata": {
        "id": "_0tMBw-PYNYw"
      },
      "source": [
        "### 4.3\n",
        "Compute the mean rating per user in the training set. What is the summary statistics of the rating means? <br>\n",
        "\n",
        "Repeat this exercise with mean rating per item."
      ]
    },
    {
      "cell_type": "code",
      "execution_count": 9,
      "metadata": {
        "colab": {
          "base_uri": "https://localhost:8080/"
        },
        "id": "sf2_lFZMYNYw",
        "outputId": "245f810a-34eb-4c6c-c390-bf0936578f43"
      },
      "outputs": [
        {
          "output_type": "execute_result",
          "data": {
            "text/plain": [
              "count    981.000000\n",
              "mean       4.767839\n",
              "std        0.719835\n",
              "min        1.000000\n",
              "25%        5.000000\n",
              "50%        5.000000\n",
              "75%        5.000000\n",
              "max        5.000000\n",
              "Name: overall, dtype: float64"
            ]
          },
          "metadata": {},
          "execution_count": 9
        }
      ],
      "source": [
        "number_of_rating = training_data.groupby('reviewerID').mean()\n",
        "number_of_rating.overall.describe()"
      ]
    },
    {
      "cell_type": "markdown",
      "source": [
        "Repeat this exercise with mean rating per item."
      ],
      "metadata": {
        "id": "H5JyczzaQN-B"
      }
    },
    {
      "cell_type": "code",
      "source": [
        "number_of_rating = training_data.groupby('asin').mean()\n",
        "number_of_rating.overall.describe()"
      ],
      "metadata": {
        "colab": {
          "base_uri": "https://localhost:8080/"
        },
        "id": "i-IntVI7PS4M",
        "outputId": "4de29519-c711-4715-c504-38caf56fb371"
      },
      "execution_count": 10,
      "outputs": [
        {
          "output_type": "execute_result",
          "data": {
            "text/plain": [
              "count    59.000000\n",
              "mean      3.993775\n",
              "std       0.968168\n",
              "min       1.000000\n",
              "25%       3.576923\n",
              "50%       4.213740\n",
              "75%       4.705031\n",
              "max       5.000000\n",
              "Name: overall, dtype: float64"
            ]
          },
          "metadata": {},
          "execution_count": 10
        }
      ]
    }
  ],
  "metadata": {
    "kernelspec": {
      "display_name": "Python 3",
      "language": "python",
      "name": "python3"
    },
    "language_info": {
      "codemirror_mode": {
        "name": "ipython",
        "version": 3
      },
      "file_extension": ".py",
      "mimetype": "text/x-python",
      "name": "python",
      "nbconvert_exporter": "python",
      "pygments_lexer": "ipython3",
      "version": "3.7.4"
    },
    "colab": {
      "name": "Session_1 (1)(1).ipynb",
      "provenance": []
    }
  },
  "nbformat": 4,
  "nbformat_minor": 0
}