{
 "cells": [
  {
   "cell_type": "code",
   "execution_count": 15,
   "metadata": {},
   "outputs": [],
   "source": [
    "from sklearn.metrics.pairwise import cosine_similarity\n",
    "from scipy.sparse.linalg import svds\n",
    "from surprise import Reader\n",
    "from surprise import Dataset\n",
    "from Session_1 import training_data\n",
    "import pandas as pd\n",
    "import numpy as np"
   ]
  },
  {
   "cell_type": "markdown",
   "metadata": {},
   "source": [
    "# Collaborative Filtering Recommender System\n",
    "In this lab session, we will work with the training set created last week."
   ]
  },
  {
   "cell_type": "markdown",
   "metadata": {},
   "source": [
    "## Exercise 1\n",
    "In this exercise, we are going to predict the rating of a single user-item pair using a neighborhood-based method.\n",
    "### 1.1\n",
    "- Represent the ratings from the training set in a user-item matrix where the rows represent users and the columns represent items.\n",
    "- Fill unobserved ratings with $0$.\n",
    "\n",
    "Compute the cosine similarities between the user with 'reviewerID'='A25C2M3QF9G7OQ' and all users that have rated the item with 'asin'='B00EYZY6LQ'.<br>\n",
    "What are the similarities and what are the ratings given by these users on item 'B00EYZY6LQ'?"
   ]
  },
  {
   "cell_type": "code",
   "execution_count": 16,
   "id": "9bcad051",
   "metadata": {},
   "outputs": [
    {
     "data": {
      "text/html": [
       "<div>\n",
       "<style scoped>\n",
       "    .dataframe tbody tr th:only-of-type {\n",
       "        vertical-align: middle;\n",
       "    }\n",
       "\n",
       "    .dataframe tbody tr th {\n",
       "        vertical-align: top;\n",
       "    }\n",
       "\n",
       "    .dataframe thead th {\n",
       "        text-align: right;\n",
       "    }\n",
       "</style>\n",
       "<table border=\"1\" class=\"dataframe\">\n",
       "  <thead>\n",
       "    <tr style=\"text-align: right;\">\n",
       "      <th>asin</th>\n",
       "      <th>B0000530HU</th>\n",
       "      <th>B00006L9LC</th>\n",
       "      <th>B00021DJ32</th>\n",
       "      <th>B0002JHI1I</th>\n",
       "      <th>B0006O10P4</th>\n",
       "      <th>B0009RF9DW</th>\n",
       "      <th>B000FI4S1E</th>\n",
       "      <th>B000FOI48G</th>\n",
       "      <th>B000FTYALG</th>\n",
       "      <th>B000GLRREU</th>\n",
       "      <th>...</th>\n",
       "      <th>B00N2WQ2IW</th>\n",
       "      <th>B00NT0AR7E</th>\n",
       "      <th>B00RZYW4RG</th>\n",
       "      <th>B00W259T7G</th>\n",
       "      <th>B016V8YWBC</th>\n",
       "      <th>B019809F9Y</th>\n",
       "      <th>B019FWRG3C</th>\n",
       "      <th>B019V2KYZS</th>\n",
       "      <th>B01BNEYGQU</th>\n",
       "      <th>B01E7UKR38</th>\n",
       "    </tr>\n",
       "    <tr>\n",
       "      <th>reviewerID</th>\n",
       "      <th></th>\n",
       "      <th></th>\n",
       "      <th></th>\n",
       "      <th></th>\n",
       "      <th></th>\n",
       "      <th></th>\n",
       "      <th></th>\n",
       "      <th></th>\n",
       "      <th></th>\n",
       "      <th></th>\n",
       "      <th></th>\n",
       "      <th></th>\n",
       "      <th></th>\n",
       "      <th></th>\n",
       "      <th></th>\n",
       "      <th></th>\n",
       "      <th></th>\n",
       "      <th></th>\n",
       "      <th></th>\n",
       "      <th></th>\n",
       "      <th></th>\n",
       "    </tr>\n",
       "  </thead>\n",
       "  <tbody>\n",
       "    <tr>\n",
       "      <th>A105A034ZG9EHO</th>\n",
       "      <td>0.0</td>\n",
       "      <td>0.0</td>\n",
       "      <td>0.0</td>\n",
       "      <td>0.0</td>\n",
       "      <td>0.0</td>\n",
       "      <td>5.0</td>\n",
       "      <td>5.0</td>\n",
       "      <td>0.0</td>\n",
       "      <td>0.0</td>\n",
       "      <td>0.0</td>\n",
       "      <td>...</td>\n",
       "      <td>0.0</td>\n",
       "      <td>0.0</td>\n",
       "      <td>0.0</td>\n",
       "      <td>0.0</td>\n",
       "      <td>0.0</td>\n",
       "      <td>0.0</td>\n",
       "      <td>0.0</td>\n",
       "      <td>0.0</td>\n",
       "      <td>0.0</td>\n",
       "      <td>0.0</td>\n",
       "    </tr>\n",
       "    <tr>\n",
       "      <th>A10JB7YPWZGRF4</th>\n",
       "      <td>0.0</td>\n",
       "      <td>0.0</td>\n",
       "      <td>0.0</td>\n",
       "      <td>0.0</td>\n",
       "      <td>0.0</td>\n",
       "      <td>5.0</td>\n",
       "      <td>5.0</td>\n",
       "      <td>0.0</td>\n",
       "      <td>0.0</td>\n",
       "      <td>0.0</td>\n",
       "      <td>...</td>\n",
       "      <td>0.0</td>\n",
       "      <td>0.0</td>\n",
       "      <td>0.0</td>\n",
       "      <td>0.0</td>\n",
       "      <td>0.0</td>\n",
       "      <td>0.0</td>\n",
       "      <td>0.0</td>\n",
       "      <td>0.0</td>\n",
       "      <td>0.0</td>\n",
       "      <td>0.0</td>\n",
       "    </tr>\n",
       "    <tr>\n",
       "      <th>A10M2MLE2R0L6K</th>\n",
       "      <td>0.0</td>\n",
       "      <td>0.0</td>\n",
       "      <td>0.0</td>\n",
       "      <td>0.0</td>\n",
       "      <td>0.0</td>\n",
       "      <td>0.0</td>\n",
       "      <td>0.0</td>\n",
       "      <td>0.0</td>\n",
       "      <td>0.0</td>\n",
       "      <td>0.0</td>\n",
       "      <td>...</td>\n",
       "      <td>0.0</td>\n",
       "      <td>0.0</td>\n",
       "      <td>0.0</td>\n",
       "      <td>5.0</td>\n",
       "      <td>0.0</td>\n",
       "      <td>0.0</td>\n",
       "      <td>0.0</td>\n",
       "      <td>0.0</td>\n",
       "      <td>0.0</td>\n",
       "      <td>0.0</td>\n",
       "    </tr>\n",
       "    <tr>\n",
       "      <th>A10P0NAKKRYKTZ</th>\n",
       "      <td>0.0</td>\n",
       "      <td>0.0</td>\n",
       "      <td>0.0</td>\n",
       "      <td>0.0</td>\n",
       "      <td>0.0</td>\n",
       "      <td>5.0</td>\n",
       "      <td>5.0</td>\n",
       "      <td>0.0</td>\n",
       "      <td>0.0</td>\n",
       "      <td>0.0</td>\n",
       "      <td>...</td>\n",
       "      <td>0.0</td>\n",
       "      <td>0.0</td>\n",
       "      <td>0.0</td>\n",
       "      <td>0.0</td>\n",
       "      <td>0.0</td>\n",
       "      <td>0.0</td>\n",
       "      <td>0.0</td>\n",
       "      <td>0.0</td>\n",
       "      <td>0.0</td>\n",
       "      <td>0.0</td>\n",
       "    </tr>\n",
       "    <tr>\n",
       "      <th>A10ZJZNO4DAVB</th>\n",
       "      <td>0.0</td>\n",
       "      <td>5.0</td>\n",
       "      <td>0.0</td>\n",
       "      <td>0.0</td>\n",
       "      <td>0.0</td>\n",
       "      <td>0.0</td>\n",
       "      <td>0.0</td>\n",
       "      <td>0.0</td>\n",
       "      <td>0.0</td>\n",
       "      <td>0.0</td>\n",
       "      <td>...</td>\n",
       "      <td>0.0</td>\n",
       "      <td>0.0</td>\n",
       "      <td>0.0</td>\n",
       "      <td>0.0</td>\n",
       "      <td>0.0</td>\n",
       "      <td>0.0</td>\n",
       "      <td>0.0</td>\n",
       "      <td>0.0</td>\n",
       "      <td>0.0</td>\n",
       "      <td>0.0</td>\n",
       "    </tr>\n",
       "  </tbody>\n",
       "</table>\n",
       "<p>5 rows × 59 columns</p>\n",
       "</div>"
      ],
      "text/plain": [
       "asin            B0000530HU  B00006L9LC  B00021DJ32  B0002JHI1I  B0006O10P4  \\\n",
       "reviewerID                                                                   \n",
       "A105A034ZG9EHO         0.0         0.0         0.0         0.0         0.0   \n",
       "A10JB7YPWZGRF4         0.0         0.0         0.0         0.0         0.0   \n",
       "A10M2MLE2R0L6K         0.0         0.0         0.0         0.0         0.0   \n",
       "A10P0NAKKRYKTZ         0.0         0.0         0.0         0.0         0.0   \n",
       "A10ZJZNO4DAVB          0.0         5.0         0.0         0.0         0.0   \n",
       "\n",
       "asin            B0009RF9DW  B000FI4S1E  B000FOI48G  B000FTYALG  B000GLRREU  \\\n",
       "reviewerID                                                                   \n",
       "A105A034ZG9EHO         5.0         5.0         0.0         0.0         0.0   \n",
       "A10JB7YPWZGRF4         5.0         5.0         0.0         0.0         0.0   \n",
       "A10M2MLE2R0L6K         0.0         0.0         0.0         0.0         0.0   \n",
       "A10P0NAKKRYKTZ         5.0         5.0         0.0         0.0         0.0   \n",
       "A10ZJZNO4DAVB          0.0         0.0         0.0         0.0         0.0   \n",
       "\n",
       "asin            ...  B00N2WQ2IW  B00NT0AR7E  B00RZYW4RG  B00W259T7G  \\\n",
       "reviewerID      ...                                                   \n",
       "A105A034ZG9EHO  ...         0.0         0.0         0.0         0.0   \n",
       "A10JB7YPWZGRF4  ...         0.0         0.0         0.0         0.0   \n",
       "A10M2MLE2R0L6K  ...         0.0         0.0         0.0         5.0   \n",
       "A10P0NAKKRYKTZ  ...         0.0         0.0         0.0         0.0   \n",
       "A10ZJZNO4DAVB   ...         0.0         0.0         0.0         0.0   \n",
       "\n",
       "asin            B016V8YWBC  B019809F9Y  B019FWRG3C  B019V2KYZS  B01BNEYGQU  \\\n",
       "reviewerID                                                                   \n",
       "A105A034ZG9EHO         0.0         0.0         0.0         0.0         0.0   \n",
       "A10JB7YPWZGRF4         0.0         0.0         0.0         0.0         0.0   \n",
       "A10M2MLE2R0L6K         0.0         0.0         0.0         0.0         0.0   \n",
       "A10P0NAKKRYKTZ         0.0         0.0         0.0         0.0         0.0   \n",
       "A10ZJZNO4DAVB          0.0         0.0         0.0         0.0         0.0   \n",
       "\n",
       "asin            B01E7UKR38  \n",
       "reviewerID                  \n",
       "A105A034ZG9EHO         0.0  \n",
       "A10JB7YPWZGRF4         0.0  \n",
       "A10M2MLE2R0L6K         0.0  \n",
       "A10P0NAKKRYKTZ         0.0  \n",
       "A10ZJZNO4DAVB          0.0  \n",
       "\n",
       "[5 rows x 59 columns]"
      ]
     },
     "execution_count": 16,
     "metadata": {},
     "output_type": "execute_result"
    }
   ],
   "source": [
    "user_item = training_data.pivot('reviewerID', 'asin', 'overall')\n",
    "user_item = user_item.fillna(0)\n",
    "user_item.head()"
   ]
  },
  {
   "cell_type": "code",
   "execution_count": 27,
   "id": "a150e388",
   "metadata": {},
   "outputs": [
    {
     "data": {
      "text/html": [
       "<div>\n",
       "<style scoped>\n",
       "    .dataframe tbody tr th:only-of-type {\n",
       "        vertical-align: middle;\n",
       "    }\n",
       "\n",
       "    .dataframe tbody tr th {\n",
       "        vertical-align: top;\n",
       "    }\n",
       "\n",
       "    .dataframe thead th {\n",
       "        text-align: right;\n",
       "    }\n",
       "</style>\n",
       "<table border=\"1\" class=\"dataframe\">\n",
       "  <thead>\n",
       "    <tr style=\"text-align: right;\">\n",
       "      <th></th>\n",
       "      <th>cosine similarity</th>\n",
       "      <th>overall</th>\n",
       "    </tr>\n",
       "    <tr>\n",
       "      <th>reviewerID</th>\n",
       "      <th></th>\n",
       "      <th></th>\n",
       "    </tr>\n",
       "  </thead>\n",
       "  <tbody>\n",
       "    <tr>\n",
       "      <th>A1F7YU6O5RU432</th>\n",
       "      <td>0.079243</td>\n",
       "      <td>5.0</td>\n",
       "    </tr>\n",
       "    <tr>\n",
       "      <th>A1R1BFJCMWX0Y3</th>\n",
       "      <td>0.245145</td>\n",
       "      <td>3.0</td>\n",
       "    </tr>\n",
       "    <tr>\n",
       "      <th>A1UQBFCERIP7VJ</th>\n",
       "      <td>0.058634</td>\n",
       "      <td>5.0</td>\n",
       "    </tr>\n",
       "    <tr>\n",
       "      <th>A22CW0ZHY3NJH8</th>\n",
       "      <td>0.207883</td>\n",
       "      <td>3.0</td>\n",
       "    </tr>\n",
       "    <tr>\n",
       "      <th>A2LW5AL0KQ9P1M</th>\n",
       "      <td>0.275810</td>\n",
       "      <td>4.0</td>\n",
       "    </tr>\n",
       "    <tr>\n",
       "      <th>A2PD27UKAD3Q00</th>\n",
       "      <td>0.000000</td>\n",
       "      <td>5.0</td>\n",
       "    </tr>\n",
       "    <tr>\n",
       "      <th>A2WW57XX2UVLM6</th>\n",
       "      <td>0.000000</td>\n",
       "      <td>4.0</td>\n",
       "    </tr>\n",
       "    <tr>\n",
       "      <th>A2ZY49IDE6TY5I</th>\n",
       "      <td>0.682835</td>\n",
       "      <td>4.0</td>\n",
       "    </tr>\n",
       "    <tr>\n",
       "      <th>A39WWMBA0299ZF</th>\n",
       "      <td>0.000000</td>\n",
       "      <td>5.0</td>\n",
       "    </tr>\n",
       "    <tr>\n",
       "      <th>A3M6TSEV71537G</th>\n",
       "      <td>0.000000</td>\n",
       "      <td>5.0</td>\n",
       "    </tr>\n",
       "    <tr>\n",
       "      <th>A3S3R88HA0HZG3</th>\n",
       "      <td>0.000000</td>\n",
       "      <td>4.0</td>\n",
       "    </tr>\n",
       "    <tr>\n",
       "      <th>A914TQVHI872U</th>\n",
       "      <td>0.245145</td>\n",
       "      <td>5.0</td>\n",
       "    </tr>\n",
       "    <tr>\n",
       "      <th>AOEUN9718KVRD</th>\n",
       "      <td>0.105670</td>\n",
       "      <td>3.0</td>\n",
       "    </tr>\n",
       "  </tbody>\n",
       "</table>\n",
       "</div>"
      ],
      "text/plain": [
       "                cosine similarity  overall\n",
       "reviewerID                                \n",
       "A1F7YU6O5RU432           0.079243      5.0\n",
       "A1R1BFJCMWX0Y3           0.245145      3.0\n",
       "A1UQBFCERIP7VJ           0.058634      5.0\n",
       "A22CW0ZHY3NJH8           0.207883      3.0\n",
       "A2LW5AL0KQ9P1M           0.275810      4.0\n",
       "A2PD27UKAD3Q00           0.000000      5.0\n",
       "A2WW57XX2UVLM6           0.000000      4.0\n",
       "A2ZY49IDE6TY5I           0.682835      4.0\n",
       "A39WWMBA0299ZF           0.000000      5.0\n",
       "A3M6TSEV71537G           0.000000      5.0\n",
       "A3S3R88HA0HZG3           0.000000      4.0\n",
       "A914TQVHI872U            0.245145      5.0\n",
       "AOEUN9718KVRD            0.105670      3.0"
      ]
     },
     "execution_count": 27,
     "metadata": {},
     "output_type": "execute_result"
    }
   ],
   "source": [
    "similar_user = pd.DataFrame(columns = [\"cosine similarity\", \"overall\"], index = user_item[user_item.B00EYZY6LQ > 0.0].index)\n",
    "similar_user['overall'] = user_item[user_item.B00EYZY6LQ > 0.0].B00EYZY6LQ\n",
    "# compute cosine_similarity\n",
    "cosine_similarities = cosine_similarity([user_item.loc['A25C2M3QF9G7OQ']], user_item[user_item.B00EYZY6LQ > 0.0])\n",
    "similar_user['cosine similarity'] = cosine_similarities[0]\n",
    "similar_user"
   ]
  },
  {
   "cell_type": "markdown",
   "metadata": {},
   "source": [
    "### 1.2\n",
    "Predict the rating for user 'A25C2M3QF9G7OQ' on item 'B00EYZY6LQ' based on the ratings from the $3$ most similar users, using a weighted (by similarity) average. What is the prediction?"
   ]
  },
  {
   "cell_type": "code",
   "execution_count": 18,
   "metadata": {},
   "outputs": [
    {
     "name": "stdout",
     "output_type": "stream",
     "text": [
      "Predicted rating: 3.7963554954121093\n"
     ]
    }
   ],
   "source": [
    "top3_users = similar_user.sort_values(by=['cosine similarity'], ascending=False).values[0:3]\n",
    "points = (top3_users[:,0] * top3_users[:,1]) / np.sum(top3_users[:,0])\n",
    "print(\"Predicted rating:\",points.sum())"
   ]
  },
  {
   "cell_type": "markdown",
   "metadata": {},
   "source": [
    "## Exercise 2\n",
    "In this exercise, we are going to predict the rating of the same user-item pair as in exercise 1, now using a latent factor method.\n",
    "### 2.1\n",
    "- Represent the ratings from the training set in a user-item matrix where the rows represent users and the columns represent items.\n",
    "- Subtract the row mean (i.e. mean rating per user) from each non-missing element in the matrix.\n",
    "- Replace missing values with $0$.\n",
    "\n",
    "Factorize the user-item matrix by performing Singular Value Decomposition (SVD) of rank $5$ using eigendecomposition. What is ther user factors of user 'A25C2M3QF9G7OQ' and the item factors of item 'B00EYZY6LQ'?"
   ]
  },
  {
   "cell_type": "code",
   "execution_count": 19,
   "id": "670ea9bc",
   "metadata": {},
   "outputs": [],
   "source": [
    "user_item_1 = training_data.pivot('reviewerID', 'asin', 'overall')\n",
    "user_item_1_mean = user_item_1.mean(axis = 1)\n",
    "user_item_sub = user_item_1.sub(user_item_1_mean, axis = 0)\n",
    "user_item_sub = user_item_sub.fillna(0)"
   ]
  },
  {
   "cell_type": "code",
   "execution_count": 20,
   "metadata": {},
   "outputs": [
    {
     "name": "stdout",
     "output_type": "stream",
     "text": [
      "0   -0.553446\n",
      "1    0.421214\n",
      "2    0.063396\n",
      "3    0.656496\n",
      "4    0.251410\n",
      "Name: A25C2M3QF9G7OQ, dtype: float64\n",
      "0    0.054085\n",
      "1    0.009215\n",
      "2   -0.040723\n",
      "3    0.042454\n",
      "4    0.152673\n",
      "Name: B00EYZY6LQ, dtype: float64\n"
     ]
    }
   ],
   "source": [
    "Q, sigma, P = svds(user_item_sub, k=5)\n",
    "U = Q * sigma\n",
    "user_factors = pd.DataFrame(data = U, index = user_item_sub.index)\n",
    "print(user_factors.loc['A25C2M3QF9G7OQ'])\n",
    "item_factors = pd.DataFrame(data = P, columns = user_item_sub.columns)\n",
    "print(item_factors.B00EYZY6LQ)"
   ]
  },
  {
   "cell_type": "markdown",
   "metadata": {},
   "source": [
    "### 2.2\n",
    "Predict the rating for user 'A25C2M3QF9G7OQ' on item 'B00EYZY6LQ' by taking the dot product between the user factors and item factors and adding back the mean rating of this user. What is the prediction?"
   ]
  },
  {
   "cell_type": "code",
   "execution_count": 21,
   "metadata": {},
   "outputs": [
    {
     "data": {
      "text/plain": [
       "4.437621084849714"
      ]
     },
     "execution_count": 21,
     "metadata": {},
     "output_type": "execute_result"
    }
   ],
   "source": [
    "mean_rating_ = user_item_1.loc['A25C2M3QF9G7OQ'].mean()\n",
    "np.dot(user_factors.loc['A25C2M3QF9G7OQ'].values, item_factors.B00EYZY6LQ.values) + mean_rating_"
   ]
  },
  {
   "cell_type": "markdown",
   "metadata": {},
   "source": [
    "<br>\n",
    "<br>\n",
    "For the rest of the exercises, you can use the python library Scikit-Surprise. Please find the documentation here: https://surprise.readthedocs.io/en/stable/getting_started.html. <br>\n",
    "You can convert the training set to the format required in Scikit-Surprise as follows:"
   ]
  },
  {
   "cell_type": "code",
   "execution_count": 22,
   "metadata": {},
   "outputs": [],
   "source": [
    "reader = Reader(rating_scale=(1, 5))\n",
    "training = Dataset.load_from_df(training_data[['reviewerID', 'asin', 'overall']], reader)"
   ]
  },
  {
   "cell_type": "markdown",
   "metadata": {},
   "source": [
    "## Exercise 3\n",
    "### 3.1\n",
    "Define a user-based neighborhood model that takes into account the mean rating of each user.<br>\n",
    "Use cosine as similarity measure and try to vary the (maximum) number of neighbors to take into account when predicting ratings. Keep Scikit-Surprise's default setting for all other parameters. <br>\n",
    "Is it better to use $1$ or $10$ neighbors? You should determine this based on the Root Mean Square Error (RMSE) over 3-fold cross-validation."
   ]
  },
  {
   "cell_type": "code",
   "execution_count": 28,
   "metadata": {},
   "outputs": [
    {
     "name": "stdout",
     "output_type": "stream",
     "text": [
      "1\n",
      "Computing the cosine similarity matrix...\n",
      "Done computing similarity matrix.\n",
      "Computing the cosine similarity matrix...\n",
      "Done computing similarity matrix.\n",
      "Computing the cosine similarity matrix...\n",
      "Done computing similarity matrix.\n",
      "Evaluating RMSE of algorithm KNNWithMeans on 3 split(s).\n",
      "\n",
      "                  Fold 1  Fold 2  Fold 3  Mean    Std     \n",
      "RMSE (testset)    0.4086  0.4485  0.5168  0.4580  0.0447  \n",
      "Fit time          0.17    0.16    0.17    0.17    0.00    \n",
      "Test time         0.09    0.08    0.09    0.09    0.00    \n",
      "10\n",
      "Computing the cosine similarity matrix...\n",
      "Done computing similarity matrix.\n",
      "Computing the cosine similarity matrix...\n",
      "Done computing similarity matrix.\n",
      "Computing the cosine similarity matrix...\n",
      "Done computing similarity matrix.\n",
      "Evaluating RMSE of algorithm KNNWithMeans on 3 split(s).\n",
      "\n",
      "                  Fold 1  Fold 2  Fold 3  Mean    Std     \n",
      "RMSE (testset)    0.4551  0.4056  0.3410  0.4006  0.0467  \n",
      "Fit time          0.17    0.16    0.17    0.17    0.00    \n",
      "Test time         0.10    0.10    0.10    0.10    0.00    \n"
     ]
    }
   ],
   "source": [
    "from surprise.model_selection import cross_validate\n",
    "from surprise import KNNWithMeans\n",
    "from surprise import accuracy\n",
    "\n",
    "sim_options = {'name': 'cosine', 'user_based': True}\n",
    "\n",
    "k_set = [1, 10]\n",
    "\n",
    "for k in k_set:\n",
    "  algo = KNNWithMeans(k = k, sim_options = sim_options)\n",
    "  print(k)\n",
    "  cross_validate(algo, training, measures=['RMSE'], cv=3, verbose=True)\n",
    "\n",
    "# it is better to let k = 10"
   ]
  },
  {
   "cell_type": "markdown",
   "metadata": {},
   "source": [
    "### 3.2\n",
    "Fit the neigborhood-based model defined in exercise 3.1 on the full training set with cosine as similarity measure and either $1$ or $10$ neighbors based on what you found to be better in exercise 3.1. Keep Scikit-Surprise's default setting for all other parameters, but set the random state to $0$ for comparable results. <br>\n",
    "Use the model to predict the unobserved ratings for the users in the training set. How many predictions are there and what is the average of all the predictions?"
   ]
  },
  {
   "cell_type": "code",
   "execution_count": 24,
   "metadata": {},
   "outputs": [
    {
     "name": "stdout",
     "output_type": "stream",
     "text": [
      "Computing the cosine similarity matrix...\n",
      "Done computing similarity matrix.\n",
      "54746\n"
     ]
    },
    {
     "data": {
      "text/plain": [
       "4.628144189949609"
      ]
     },
     "execution_count": 24,
     "metadata": {},
     "output_type": "execute_result"
    }
   ],
   "source": [
    "trainset = training.build_full_trainset()\n",
    "model_algo = KNNWithMeans(k = 10, sim_options = sim_options)\n",
    "model_algo.fit(trainset)\n",
    "testset = trainset.build_anti_testset()\n",
    "predictions = model_algo.test(testset)\n",
    "len(predictions)\n",
    "count = 0\n",
    "for _, _, _, est, _ in predictions:\n",
    "  count += est\n",
    "\n",
    "print(len(predictions))\n",
    "# the average of all the predictions\n",
    "count / len(predictions)"
   ]
  },
  {
   "cell_type": "markdown",
   "metadata": {},
   "source": [
    "## Exercise 4\n",
    "### 4.1\n",
    "Define an SVD model with user and item biases that uses Stochastic Gradient Descend (SGD) to estimate the low-rank matrix based on only observed ratings. <br>\n",
    "Set the number of latent factors to $30$ and try to iterate the SGD procedure for different number of epochs. Keep Scikit-Surprise's default setting for all other parameters. <br>\n",
    "Is it better to run for $100$ or $500$ epochs? You should determine this based on the RMSE over 3-fold cross-validation."
   ]
  },
  {
   "cell_type": "code",
   "execution_count": 25,
   "metadata": {},
   "outputs": [
    {
     "name": "stdout",
     "output_type": "stream",
     "text": [
      "100\n",
      "Evaluating RMSE of algorithm SVD on 3 split(s).\n",
      "\n",
      "                  Fold 1  Fold 2  Fold 3  Mean    Std     \n",
      "RMSE (testset)    0.4121  0.3691  0.5213  0.4341  0.0640  \n",
      "Fit time          0.22    0.21    0.22    0.21    0.00    \n",
      "Test time         0.00    0.00    0.00    0.00    0.00    \n",
      "500\n",
      "Evaluating RMSE of algorithm SVD on 3 split(s).\n",
      "\n",
      "                  Fold 1  Fold 2  Fold 3  Mean    Std     \n",
      "RMSE (testset)    0.3393  0.3769  0.3601  0.3588  0.0154  \n",
      "Fit time          1.04    1.03    1.04    1.03    0.01    \n",
      "Test time         0.00    0.00    0.00    0.00    0.00    \n"
     ]
    }
   ],
   "source": [
    "from surprise import SVD\n",
    "epoch_set = [100, 500]\n",
    "for epoch in epoch_set:\n",
    "  print(epoch)\n",
    "  svd_model = SVD(n_factors = 30, n_epochs = epoch)\n",
    "  cross_validate(svd_model, training, measures=['RMSE'], cv=3, verbose=True)\n",
    "\n",
    "# better to run for 500 epochs"
   ]
  },
  {
   "cell_type": "markdown",
   "metadata": {},
   "source": [
    "### 4.2\n",
    "Fit the latent factor model defined in exercise 4.1 on the full training set with $30$ latent factors and run for either $100$ or $500$ epochs based on what you found to be better in exercise 4.1. Keep Scikit-Surprise's default setting for all other parameters, but set the random state to $0$ for comparable results.<br>\n",
    "Use the model to predict the unobserved ratings for the users in the training set. How many predictions are there and what is the average of all the predictions?"
   ]
  },
  {
   "cell_type": "code",
   "execution_count": 26,
   "metadata": {},
   "outputs": [
    {
     "name": "stdout",
     "output_type": "stream",
     "text": [
      "54746\n"
     ]
    },
    {
     "data": {
      "text/plain": [
       "4.403720461682837"
      ]
     },
     "execution_count": 26,
     "metadata": {},
     "output_type": "execute_result"
    }
   ],
   "source": [
    "trainset = training.build_full_trainset()\n",
    "svd_model = SVD(n_factors = 30, n_epochs = 500, random_state = 0)\n",
    "svd_model.fit(trainset)\n",
    "testset = trainset.build_anti_testset()\n",
    "predictions = svd_model.test(testset)\n",
    "count = 0\n",
    "for _, _, _, est, _ in predictions:\n",
    "  count += est\n",
    "\n",
    "print(len(predictions))\n",
    "# the average of all the predictions\n",
    "count / len(predictions)"
   ]
  }
 ],
 "metadata": {
  "kernelspec": {
   "display_name": "Python 3",
   "language": "python",
   "name": "python3"
  },
  "language_info": {
   "codemirror_mode": {
    "name": "ipython",
    "version": 3
   },
   "file_extension": ".py",
   "mimetype": "text/x-python",
   "name": "python",
   "nbconvert_exporter": "python",
   "pygments_lexer": "ipython3",
   "version": "3.9.7"
  }
 },
 "nbformat": 4,
 "nbformat_minor": 5
}
