{
  "cells": [
    {
      "cell_type": "markdown",
      "id": "ae6011ca",
      "metadata": {
        "id": "ae6011ca"
      },
      "source": [
        "# Content-based recommendation"
      ]
    },
    {
      "cell_type": "markdown",
      "id": "4a455b8a",
      "metadata": {
        "id": "4a455b8a"
      },
      "source": [
        "# Exercise 1\n",
        "Based on the TF-IDF vectors obtained in the Exercise 2 from Session 4, represent each user in the same vector space. Amongst other feasible solutions, you can represent a user (user profile) by computing the weighted mean of the items vectors. Compute the cosine similarity for user 'A39WWMBA0299ZF' and all products in the training set not rated by the user. What are the top-5 recommended items for user 'A39WWMBA0299ZF'? Print out the top-5 items and their similarity score.  "
      ]
    },
    {
      "cell_type": "code",
      "execution_count": 10,
      "id": "403ff409",
      "metadata": {
        "id": "403ff409"
      },
      "outputs": [],
      "source": [
        "import import_ipynb\n",
        "from collections import defaultdict\n",
        "import pandas as pd\n",
        "import numpy as np\n",
        "    \n",
        "from Session_4 import tf_idf_array, df\n",
        "from Session_1 import training_data, test_data\n",
        "\n",
        "user_item = training_data.pivot('reviewerID', 'asin', 'overall')\n",
        "\n",
        "combine_matrix = pd.DataFrame(index=df.asin.values, data=tf_idf_array)\n",
        "\n",
        "same_vector_space = defaultdict(pd.DataFrame)\n",
        "for user in user_item.index.values:\n",
        "    rated_by = training_data['reviewerID'].isin([user])\n",
        "    items = training_data[rated_by].asin.values\n",
        "    ratings = user_item.loc[user, items].values\n",
        "    product_vector = combine_matrix.loc[items]\n",
        "    product_vector['overall'] = ratings\n",
        "    same_vector_space[user] = product_vector\n",
        "\n",
        "# build user profile\n",
        "user_profile = defaultdict()\n",
        "for user, vector in same_vector_space.items():\n",
        "    item_feature = vector.drop(['overall'], axis=1)\n",
        "    rating = vector.overall.values\n",
        "    user_profile[user] = np.mean(np.array(item_feature.multiply(rating, axis=0).values), axis=0)"
      ]
    },
    {
      "cell_type": "code",
      "execution_count": 3,
      "metadata": {
        "id": "Yr_2RsWfxix-"
      },
      "outputs": [],
      "source": [
        "from sklearn.metrics.pairwise import cosine_similarity\n",
        "\n",
        "similarity = defaultdict()\n",
        "for user, vector in same_vector_space.items():\n",
        "    rated_by_user_row = training_data['reviewerID'].isin([user])\n",
        "    rated_by_user = training_data[rated_by_user_row].asin.values\n",
        "    not_rated_by = combine_matrix.drop(rated_by_user)\n",
        "    temp = pd.DataFrame(index=not_rated_by.index, columns=['cosine_similarity'])\n",
        "    cosine_similarities = cosine_similarity([user_profile[user]], not_rated_by)\n",
        "    temp['cosine_similarity'] = cosine_similarities[0]\n",
        "    similarity[user] = temp\n"
      ],
      "id": "Yr_2RsWfxix-"
    },
    {
      "cell_type": "code",
      "execution_count": 4,
      "id": "00d60304",
      "metadata": {
        "colab": {
          "base_uri": "https://localhost:8080/",
          "height": 224
        },
        "id": "00d60304",
        "outputId": "3b5f48cd-29e0-45f6-9dd8-0a12e66fed6d"
      },
      "outputs": [
        {
          "output_type": "stream",
          "name": "stdout",
          "text": [
            "Top-5 recommended items for user 'A39WWMBA0299ZF':\n"
          ]
        },
        {
          "output_type": "execute_result",
          "data": {
            "text/plain": [
              "            cosine_similarity\n",
              "B019FWRG3C           0.396049\n",
              "B00W259T7G           0.176053\n",
              "B0006O10P4           0.145249\n",
              "B00IJHY54S           0.106674\n",
              "B00006L9LC           0.088709"
            ],
            "text/html": [
              "\n",
              "  <div id=\"df-19001eb0-1989-43ca-952f-9049c8155abc\">\n",
              "    <div class=\"colab-df-container\">\n",
              "      <div>\n",
              "<style scoped>\n",
              "    .dataframe tbody tr th:only-of-type {\n",
              "        vertical-align: middle;\n",
              "    }\n",
              "\n",
              "    .dataframe tbody tr th {\n",
              "        vertical-align: top;\n",
              "    }\n",
              "\n",
              "    .dataframe thead th {\n",
              "        text-align: right;\n",
              "    }\n",
              "</style>\n",
              "<table border=\"1\" class=\"dataframe\">\n",
              "  <thead>\n",
              "    <tr style=\"text-align: right;\">\n",
              "      <th></th>\n",
              "      <th>cosine_similarity</th>\n",
              "    </tr>\n",
              "  </thead>\n",
              "  <tbody>\n",
              "    <tr>\n",
              "      <th>B019FWRG3C</th>\n",
              "      <td>0.396049</td>\n",
              "    </tr>\n",
              "    <tr>\n",
              "      <th>B00W259T7G</th>\n",
              "      <td>0.176053</td>\n",
              "    </tr>\n",
              "    <tr>\n",
              "      <th>B0006O10P4</th>\n",
              "      <td>0.145249</td>\n",
              "    </tr>\n",
              "    <tr>\n",
              "      <th>B00IJHY54S</th>\n",
              "      <td>0.106674</td>\n",
              "    </tr>\n",
              "    <tr>\n",
              "      <th>B00006L9LC</th>\n",
              "      <td>0.088709</td>\n",
              "    </tr>\n",
              "  </tbody>\n",
              "</table>\n",
              "</div>\n",
              "      <button class=\"colab-df-convert\" onclick=\"convertToInteractive('df-19001eb0-1989-43ca-952f-9049c8155abc')\"\n",
              "              title=\"Convert this dataframe to an interactive table.\"\n",
              "              style=\"display:none;\">\n",
              "        \n",
              "  <svg xmlns=\"http://www.w3.org/2000/svg\" height=\"24px\"viewBox=\"0 0 24 24\"\n",
              "       width=\"24px\">\n",
              "    <path d=\"M0 0h24v24H0V0z\" fill=\"none\"/>\n",
              "    <path d=\"M18.56 5.44l.94 2.06.94-2.06 2.06-.94-2.06-.94-.94-2.06-.94 2.06-2.06.94zm-11 1L8.5 8.5l.94-2.06 2.06-.94-2.06-.94L8.5 2.5l-.94 2.06-2.06.94zm10 10l.94 2.06.94-2.06 2.06-.94-2.06-.94-.94-2.06-.94 2.06-2.06.94z\"/><path d=\"M17.41 7.96l-1.37-1.37c-.4-.4-.92-.59-1.43-.59-.52 0-1.04.2-1.43.59L10.3 9.45l-7.72 7.72c-.78.78-.78 2.05 0 2.83L4 21.41c.39.39.9.59 1.41.59.51 0 1.02-.2 1.41-.59l7.78-7.78 2.81-2.81c.8-.78.8-2.07 0-2.86zM5.41 20L4 18.59l7.72-7.72 1.47 1.35L5.41 20z\"/>\n",
              "  </svg>\n",
              "      </button>\n",
              "      \n",
              "  <style>\n",
              "    .colab-df-container {\n",
              "      display:flex;\n",
              "      flex-wrap:wrap;\n",
              "      gap: 12px;\n",
              "    }\n",
              "\n",
              "    .colab-df-convert {\n",
              "      background-color: #E8F0FE;\n",
              "      border: none;\n",
              "      border-radius: 50%;\n",
              "      cursor: pointer;\n",
              "      display: none;\n",
              "      fill: #1967D2;\n",
              "      height: 32px;\n",
              "      padding: 0 0 0 0;\n",
              "      width: 32px;\n",
              "    }\n",
              "\n",
              "    .colab-df-convert:hover {\n",
              "      background-color: #E2EBFA;\n",
              "      box-shadow: 0px 1px 2px rgba(60, 64, 67, 0.3), 0px 1px 3px 1px rgba(60, 64, 67, 0.15);\n",
              "      fill: #174EA6;\n",
              "    }\n",
              "\n",
              "    [theme=dark] .colab-df-convert {\n",
              "      background-color: #3B4455;\n",
              "      fill: #D2E3FC;\n",
              "    }\n",
              "\n",
              "    [theme=dark] .colab-df-convert:hover {\n",
              "      background-color: #434B5C;\n",
              "      box-shadow: 0px 1px 3px 1px rgba(0, 0, 0, 0.15);\n",
              "      filter: drop-shadow(0px 1px 2px rgba(0, 0, 0, 0.3));\n",
              "      fill: #FFFFFF;\n",
              "    }\n",
              "  </style>\n",
              "\n",
              "      <script>\n",
              "        const buttonEl =\n",
              "          document.querySelector('#df-19001eb0-1989-43ca-952f-9049c8155abc button.colab-df-convert');\n",
              "        buttonEl.style.display =\n",
              "          google.colab.kernel.accessAllowed ? 'block' : 'none';\n",
              "\n",
              "        async function convertToInteractive(key) {\n",
              "          const element = document.querySelector('#df-19001eb0-1989-43ca-952f-9049c8155abc');\n",
              "          const dataTable =\n",
              "            await google.colab.kernel.invokeFunction('convertToInteractive',\n",
              "                                                     [key], {});\n",
              "          if (!dataTable) return;\n",
              "\n",
              "          const docLinkHtml = 'Like what you see? Visit the ' +\n",
              "            '<a target=\"_blank\" href=https://colab.research.google.com/notebooks/data_table.ipynb>data table notebook</a>'\n",
              "            + ' to learn more about interactive tables.';\n",
              "          element.innerHTML = '';\n",
              "          dataTable['output_type'] = 'display_data';\n",
              "          await google.colab.output.renderOutput(dataTable, element);\n",
              "          const docLink = document.createElement('div');\n",
              "          docLink.innerHTML = docLinkHtml;\n",
              "          element.appendChild(docLink);\n",
              "        }\n",
              "      </script>\n",
              "    </div>\n",
              "  </div>\n",
              "  "
            ]
          },
          "metadata": {},
          "execution_count": 4
        }
      ],
      "source": [
        "print(\"Top-5 recommended items for user 'A39WWMBA0299ZF':\")\n",
        "similarity['A39WWMBA0299ZF'].sort_values(by=['cosine_similarity'], ascending=False).head()"
      ]
    },
    {
      "cell_type": "markdown",
      "id": "599f2bbe",
      "metadata": {
        "id": "599f2bbe"
      },
      "source": [
        "# Exercise 2\n",
        "\n"
      ]
    },
    {
      "cell_type": "markdown",
      "id": "1a7805a3",
      "metadata": {
        "id": "1a7805a3"
      },
      "source": [
        "Compute the systems’ hit rate based on the top-5, top-10 and top-20 recommendations, averaged over the total number of users. Remember that, as we are evaluating the system, you should compute the hit rate over the test set. How well/bad does this Content-based approach perform compared to the Collaborative Filtering?"
      ]
    },
    {
      "cell_type": "code",
      "execution_count": 5,
      "id": "c7455795",
      "metadata": {
        "colab": {
          "base_uri": "https://localhost:8080/"
        },
        "id": "c7455795",
        "outputId": "331f831f-5151-431b-c7fd-c881e7c9c7a1"
      },
      "outputs": [
        {
          "output_type": "stream",
          "name": "stdout",
          "text": [
            "Hit Rate (top-5): 0.426\n",
            "Hit Rate (top-10): 0.448\n",
            "Hit Rate (top-20): 0.514\n"
          ]
        }
      ],
      "source": [
        "user_item_test = test_data.pivot('reviewerID', 'asin', 'overall')\n",
        "user_item_test = user_item_test.fillna(0)\n",
        "\n",
        "# # user_item_test.loc['A18HENNBJ25817']\n",
        "# user_item.loc['A18HENNBJ25817']\n",
        "def transfer_to_user_item_rating_relevant(similarity):\n",
        "    # map the predictions to each user.\n",
        "    user_item_rating = defaultdict(list)\n",
        "    for user, sim in similarity.items():\n",
        "        if user not in list(user_item_test.index):  # very important part\n",
        "            continue\n",
        "        for iid in sim.index.values:\n",
        "            true_rating = user_item_test.loc[user, iid] if iid in list(user_item_test.columns) else 0\n",
        "            relevant = 1 if true_rating >= 4.0 else 0\n",
        "            user_item_rating[user].append((iid, sim.loc[iid].values, relevant))\n",
        "    # {uid: [(iid, est, relevant)]}\n",
        "    return user_item_rating\n",
        "\n",
        "# compute HR@k for one user\n",
        "def HR_at_k(k, user_ratings):\n",
        "    for i in range(k):\n",
        "        _, _, relevant = user_ratings[i]\n",
        "        if relevant == 1:\n",
        "            return 1.0\n",
        "    return 0.0\n",
        "\n",
        "def compute_hit_rate(k, user_item_rating):\n",
        "    hr = dict() # hit rate\n",
        "    for uid, user_ratings in user_item_rating.items():\n",
        "        # Sort user ratings by estimated value\n",
        "        user_ratings.sort(key=lambda x: x[1], reverse=True)\n",
        "        hr[uid] = HR_at_k(k, user_ratings)\n",
        "\n",
        "    return sum(prec for prec in hr.values()) / len(hr) \n",
        "\n",
        "user_item_rating_cb = transfer_to_user_item_rating_relevant(similarity)\n",
        "\n",
        "k_set = [5, 10, 20]\n",
        "for k in k_set:\n",
        "    mhr_at_k_nb = compute_hit_rate(k, user_item_rating_cb)\n",
        "    print(f\"Hit Rate (top-{k}):\", round(mhr_at_k_nb, 3))"
      ]
    }
  ],
  "metadata": {
    "kernelspec": {
      "display_name": "Python 3 (ipykernel)",
      "language": "python",
      "name": "python3"
    },
    "language_info": {
      "codemirror_mode": {
        "name": "ipython",
        "version": 3
      },
      "file_extension": ".py",
      "mimetype": "text/x-python",
      "name": "python",
      "nbconvert_exporter": "python",
      "pygments_lexer": "ipython3",
      "version": "3.9.7"
    },
    "colab": {
      "name": "Session_5-Content_Based.ipynb",
      "provenance": []
    }
  },
  "nbformat": 4,
  "nbformat_minor": 5
}